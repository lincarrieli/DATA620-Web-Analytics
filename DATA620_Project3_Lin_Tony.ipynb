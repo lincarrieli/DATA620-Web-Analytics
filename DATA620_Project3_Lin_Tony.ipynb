{
 "cells": [
  {
   "cell_type": "markdown",
   "metadata": {},
   "source": [
    "## DATA 620 Project 3\n",
    "\n",
    "Using any of the three classifiers described in chapter 6 of Natural Language Processing with Python, and any features you can think of, build the best name gender classifier you can. Begin by splitting the Names Corpus into three subsets: 500 words for the test set, 500 words for the dev-test set, and the remaining 6900 words for the training set. Then, starting with the example name gender classifier, make incremental improvements. Use the dev-test set to check your progress. Once you are satisfied with your classifier, check its final performance on the test set. How does the performance on the test set compare to the performance on the dev-test set? Is this what you'd expect?\n",
    "\n",
    "Project is due 4/11.\n",
    "\n",
    "Source: Natural Language Processing with Python, exercise 6.10.2."
   ]
  },
  {
   "cell_type": "code",
   "execution_count": 42,
   "metadata": {},
   "outputs": [],
   "source": [
    "import nltk\n",
    "from nltk.corpus import names\n",
    "import random\n",
    "import pandas as pd\n",
    "from nltk import NaiveBayesClassifier\n",
    "from nltk import DecisionTreeClassifier\n",
    "from nltk import classify\n"
   ]
  },
  {
   "cell_type": "code",
   "execution_count": 43,
   "metadata": {},
   "outputs": [],
   "source": [
    "names = ([(name, 'male') for name in names.words('male.txt')] +\n",
    "        [(name, 'female') for name in names.words('female.txt')])\n",
    "random.shuffle(names)"
   ]
  },
  {
   "cell_type": "markdown",
   "metadata": {},
   "source": [
    "## Gender_features with NaiveBayesClassifier"
   ]
  },
  {
   "cell_type": "markdown",
   "metadata": {},
   "source": [
    "### 1. gender_features : Last letter only"
   ]
  },
  {
   "cell_type": "code",
   "execution_count": 44,
   "metadata": {},
   "outputs": [
    {
     "data": {
      "text/plain": [
       "{'last_letter': 'k'}"
      ]
     },
     "execution_count": 44,
     "metadata": {},
     "output_type": "execute_result"
    }
   ],
   "source": [
    "def gender_features(word):\n",
    "    return {'last_letter': word[-1]}\n",
    "gender_features('Shrek')"
   ]
  },
  {
   "cell_type": "code",
   "execution_count": 45,
   "metadata": {},
   "outputs": [],
   "source": [
    "featuresets = [(gender_features(n), g) for (n,g) in names]\n",
    "train_set, test_set = featuresets[500:], featuresets[:500]\n",
    "classifier = nltk.NaiveBayesClassifier.train(train_set)"
   ]
  },
  {
   "cell_type": "code",
   "execution_count": 46,
   "metadata": {},
   "outputs": [
    {
     "data": {
      "text/plain": [
       "'male'"
      ]
     },
     "execution_count": 46,
     "metadata": {},
     "output_type": "execute_result"
    }
   ],
   "source": [
    "classifier.classify(gender_features('Neo'))"
   ]
  },
  {
   "cell_type": "code",
   "execution_count": 47,
   "metadata": {},
   "outputs": [
    {
     "name": "stdout",
     "output_type": "stream",
     "text": [
      "0.782\n"
     ]
    }
   ],
   "source": [
    "print(nltk.classify.accuracy(classifier, test_set))"
   ]
  },
  {
   "cell_type": "code",
   "execution_count": 48,
   "metadata": {},
   "outputs": [
    {
     "name": "stdout",
     "output_type": "stream",
     "text": [
      "Most Informative Features\n",
      "             last_letter = 'a'            female : male   =     34.4 : 1.0\n",
      "             last_letter = 'k'              male : female =     32.2 : 1.0\n",
      "             last_letter = 'p'              male : female =     18.6 : 1.0\n",
      "             last_letter = 'f'              male : female =     16.6 : 1.0\n",
      "             last_letter = 'v'              male : female =     11.2 : 1.0\n"
     ]
    }
   ],
   "source": [
    "classifier.show_most_informative_features(5)"
   ]
  },
  {
   "cell_type": "code",
   "execution_count": 49,
   "metadata": {},
   "outputs": [],
   "source": [
    "from nltk.classify import apply_features\n",
    "train_set = apply_features(gender_features, names[500:])\n",
    "test_set = apply_features(gender_features, names[:500])"
   ]
  },
  {
   "cell_type": "raw",
   "metadata": {},
   "source": [
    "gender_features return first letter and last letter of name"
   ]
  },
  {
   "cell_type": "markdown",
   "metadata": {},
   "source": [
    "### 2. gender_features : Last letter, First letter"
   ]
  },
  {
   "cell_type": "code",
   "execution_count": 50,
   "metadata": {
    "scrolled": false
   },
   "outputs": [
    {
     "data": {
      "text/plain": [
       "{'firstletter': 'j',\n",
       " 'lastletter': 'n',\n",
       " 'count(a)': 0,\n",
       " 'has(a)': False,\n",
       " 'count(b)': 0,\n",
       " 'has(b)': False,\n",
       " 'count(c)': 0,\n",
       " 'has(c)': False,\n",
       " 'count(d)': 0,\n",
       " 'has(d)': False,\n",
       " 'count(e)': 0,\n",
       " 'has(e)': False,\n",
       " 'count(f)': 0,\n",
       " 'has(f)': False,\n",
       " 'count(g)': 0,\n",
       " 'has(g)': False,\n",
       " 'count(h)': 1,\n",
       " 'has(h)': True,\n",
       " 'count(i)': 0,\n",
       " 'has(i)': False,\n",
       " 'count(j)': 1,\n",
       " 'has(j)': True,\n",
       " 'count(k)': 0,\n",
       " 'has(k)': False,\n",
       " 'count(l)': 0,\n",
       " 'has(l)': False,\n",
       " 'count(m)': 0,\n",
       " 'has(m)': False,\n",
       " 'count(n)': 1,\n",
       " 'has(n)': True,\n",
       " 'count(o)': 1,\n",
       " 'has(o)': True,\n",
       " 'count(p)': 0,\n",
       " 'has(p)': False,\n",
       " 'count(q)': 0,\n",
       " 'has(q)': False,\n",
       " 'count(r)': 0,\n",
       " 'has(r)': False,\n",
       " 'count(s)': 0,\n",
       " 'has(s)': False,\n",
       " 'count(t)': 0,\n",
       " 'has(t)': False,\n",
       " 'count(u)': 0,\n",
       " 'has(u)': False,\n",
       " 'count(v)': 0,\n",
       " 'has(v)': False,\n",
       " 'count(w)': 0,\n",
       " 'has(w)': False,\n",
       " 'count(x)': 0,\n",
       " 'has(x)': False,\n",
       " 'count(y)': 0,\n",
       " 'has(y)': False,\n",
       " 'count(z)': 0,\n",
       " 'has(z)': False}"
      ]
     },
     "execution_count": 50,
     "metadata": {},
     "output_type": "execute_result"
    }
   ],
   "source": [
    "def gender_features2(name):\n",
    "    features = {}\n",
    "    features[\"firstletter\"] = name[0].lower()\n",
    "    features[\"lastletter\"] = name[-1].lower()\n",
    "    for letter in 'abcdefghijklmnopqrstuvwxyz':\n",
    "        features[\"count(%s)\" % letter] = name.lower().count(letter)\n",
    "        features[\"has(%s)\" % letter] = (letter in name.lower())\n",
    "    return features\n",
    "gender_features2('John')"
   ]
  },
  {
   "cell_type": "markdown",
   "metadata": {},
   "source": [
    "NaiveBayesClassifier"
   ]
  },
  {
   "cell_type": "code",
   "execution_count": 51,
   "metadata": {},
   "outputs": [
    {
     "name": "stdout",
     "output_type": "stream",
     "text": [
      "0.764\n"
     ]
    }
   ],
   "source": [
    "featuresets = [(gender_features2(n), g) for (n,g) in names]\n",
    "train_set, test_set = featuresets[500:], featuresets[:500]\n",
    "classifier = nltk.NaiveBayesClassifier.train(train_set)\n",
    "print(nltk.classify.accuracy(classifier, test_set))\n"
   ]
  },
  {
   "cell_type": "code",
   "execution_count": 52,
   "metadata": {},
   "outputs": [],
   "source": [
    "train_names = names[1000:]\n",
    "devtest_names = names[500:1000]\n",
    "test_names = names[:500]"
   ]
  },
  {
   "cell_type": "code",
   "execution_count": 53,
   "metadata": {},
   "outputs": [
    {
     "name": "stdout",
     "output_type": "stream",
     "text": [
      "500 500 6944 7944\n"
     ]
    }
   ],
   "source": [
    "print(len(test_names), len(devtest_names), len(train_names), len(names))"
   ]
  },
  {
   "cell_type": "markdown",
   "metadata": {},
   "source": [
    "Having divided the corpus into appropriate datasets, we train a model using the training\n",
    "set , and then run it on the dev-test set ."
   ]
  },
  {
   "cell_type": "code",
   "execution_count": 54,
   "metadata": {},
   "outputs": [
    {
     "name": "stdout",
     "output_type": "stream",
     "text": [
      "0.746\n"
     ]
    }
   ],
   "source": [
    "train_set = [(gender_features(n), g) for (n,g) in train_names]\n",
    "devtest_set = [(gender_features(n), g) for (n,g) in devtest_names]\n",
    "test_set = [(gender_features(n), g) for (n,g) in test_names]\n",
    "classifier = nltk.NaiveBayesClassifier.train(train_set)\n",
    "print(nltk.classify.accuracy(classifier, devtest_set))"
   ]
  },
  {
   "cell_type": "markdown",
   "metadata": {},
   "source": [
    "Using the dev-test set, we can generate a list of the errors that the classifier makes when\n",
    "predicting name genders:"
   ]
  },
  {
   "cell_type": "code",
   "execution_count": 55,
   "metadata": {},
   "outputs": [],
   "source": [
    "errors = []\n",
    "for (name, tag) in devtest_names:\n",
    "    guess = classifier.classify(gender_features(name))\n",
    "    if guess != tag:\n",
    "        errors.append( (tag, guess, name) )"
   ]
  },
  {
   "cell_type": "markdown",
   "metadata": {},
   "source": [
    "We can then examine individual error cases where the model predicted the wrong label,\n",
    "and try to determine what additional pieces of information would allow it to make the\n",
    "right decision (or which existing pieces of information are tricking it into making the\n",
    "wrong decision). The feature set can then be adjusted accordingly. The names classifier\n",
    "that we have built generates about 100 errors on the dev-test corpus:"
   ]
  },
  {
   "cell_type": "code",
   "execution_count": 56,
   "metadata": {},
   "outputs": [
    {
     "name": "stdout",
     "output_type": "stream",
     "text": [
      "correct=female   guess=male     name=Alys                          \n",
      "correct=female   guess=male     name=Alyss                         \n",
      "correct=female   guess=male     name=Arabel                        \n",
      "correct=female   guess=male     name=Aurel                         \n",
      "correct=female   guess=male     name=Bab                           \n",
      "correct=female   guess=male     name=Carmel                        \n",
      "correct=female   guess=male     name=Carolann                      \n",
      "correct=female   guess=male     name=Cherlyn                       \n",
      "correct=female   guess=male     name=Christal                      \n",
      "correct=female   guess=male     name=Corabel                       \n",
      "correct=female   guess=male     name=Dael                          \n",
      "correct=female   guess=male     name=Damaris                       \n",
      "correct=female   guess=male     name=Darryl                        \n",
      "correct=female   guess=male     name=Denys                         \n",
      "correct=female   guess=male     name=Diann                         \n",
      "correct=female   guess=male     name=Doris                         \n",
      "correct=female   guess=male     name=Drew                          \n",
      "correct=female   guess=male     name=Erinn                         \n",
      "correct=female   guess=male     name=Flower                        \n",
      "correct=female   guess=male     name=Fran                          \n",
      "correct=female   guess=male     name=Gates                         \n",
      "correct=female   guess=male     name=Glen                          \n",
      "correct=female   guess=male     name=Grethel                       \n",
      "correct=female   guess=male     name=Hazel                         \n",
      "correct=female   guess=male     name=Helyn                         \n",
      "correct=female   guess=male     name=Inger                         \n",
      "correct=female   guess=male     name=Janet                         \n",
      "correct=female   guess=male     name=Janot                         \n",
      "correct=female   guess=male     name=Jasmin                        \n",
      "correct=female   guess=male     name=Joyan                         \n",
      "correct=female   guess=male     name=Kathleen                      \n",
      "correct=female   guess=male     name=Katlin                        \n",
      "correct=female   guess=male     name=Kaylyn                        \n",
      "correct=female   guess=male     name=Kyrstin                       \n",
      "correct=female   guess=male     name=Lark                          \n",
      "correct=female   guess=male     name=Leanor                        \n",
      "correct=female   guess=male     name=Linet                         \n",
      "correct=female   guess=male     name=Linnet                        \n",
      "correct=female   guess=male     name=Lou                           \n",
      "correct=female   guess=male     name=Lynnet                        \n",
      "correct=female   guess=male     name=Maren                         \n",
      "correct=female   guess=male     name=Margot                        \n",
      "correct=female   guess=male     name=Michel                        \n",
      "correct=female   guess=male     name=Mildrid                       \n",
      "correct=female   guess=male     name=Star                          \n",
      "correct=female   guess=male     name=Suzan                         \n",
      "correct=female   guess=male     name=Suzann                        \n",
      "correct=female   guess=male     name=Winifred                      \n",
      "correct=male     guess=female   name=Aguste                        \n",
      "correct=male     guess=female   name=Ajay                          \n",
      "correct=male     guess=female   name=Alex                          \n",
      "correct=male     guess=female   name=Alix                          \n",
      "correct=male     guess=female   name=Ashby                         \n",
      "correct=male     guess=female   name=Avery                         \n",
      "correct=male     guess=female   name=Bailie                        \n",
      "correct=male     guess=female   name=Baillie                       \n",
      "correct=male     guess=female   name=Barclay                       \n",
      "correct=male     guess=female   name=Bartie                        \n",
      "correct=male     guess=female   name=Bartolomei                    \n",
      "correct=male     guess=female   name=Berke                         \n",
      "correct=male     guess=female   name=Brice                         \n",
      "correct=male     guess=female   name=Brinkley                      \n",
      "correct=male     guess=female   name=Buddy                         \n",
      "correct=male     guess=female   name=Chevy                         \n",
      "correct=male     guess=female   name=Clare                         \n",
      "correct=male     guess=female   name=Clarence                      \n",
      "correct=male     guess=female   name=Connie                        \n",
      "correct=male     guess=female   name=Dale                          \n",
      "correct=male     guess=female   name=Earle                         \n",
      "correct=male     guess=female   name=Elijah                        \n",
      "correct=male     guess=female   name=Emery                         \n",
      "correct=male     guess=female   name=Erny                          \n",
      "correct=male     guess=female   name=Eustace                       \n",
      "correct=male     guess=female   name=Fox                           \n",
      "correct=male     guess=female   name=Friedrich                     \n",
      "correct=male     guess=female   name=Geoffry                       \n",
      "correct=male     guess=female   name=Godfree                       \n",
      "correct=male     guess=female   name=Godfrey                       \n",
      "correct=male     guess=female   name=Gordie                        \n",
      "correct=male     guess=female   name=Granville                     \n",
      "correct=male     guess=female   name=Guillaume                     \n",
      "correct=male     guess=female   name=Hadley                        \n",
      "correct=male     guess=female   name=Hale                          \n",
      "correct=male     guess=female   name=Hillary                       \n",
      "correct=male     guess=female   name=Jeremiah                      \n",
      "correct=male     guess=female   name=Jeremy                        \n",
      "correct=male     guess=female   name=Jeromy                        \n",
      "correct=male     guess=female   name=Jimmy                         \n",
      "correct=male     guess=female   name=Joey                          \n",
      "correct=male     guess=female   name=Joshuah                       \n",
      "correct=male     guess=female   name=Judy                          \n",
      "correct=male     guess=female   name=Julie                         \n",
      "correct=male     guess=female   name=Keene                         \n",
      "correct=male     guess=female   name=Kirby                         \n",
      "correct=male     guess=female   name=Lance                         \n",
      "correct=male     guess=female   name=Lennie                        \n",
      "correct=male     guess=female   name=Lex                           \n",
      "correct=male     guess=female   name=Louie                         \n",
      "correct=male     guess=female   name=Maurie                        \n",
      "correct=male     guess=female   name=Maury                         \n",
      "correct=male     guess=female   name=Max                           \n",
      "correct=male     guess=female   name=Nealy                         \n",
      "correct=male     guess=female   name=Neddie                        \n",
      "correct=male     guess=female   name=Obie                          \n",
      "correct=male     guess=female   name=Pembroke                      \n",
      "correct=male     guess=female   name=Rabi                          \n",
      "correct=male     guess=female   name=Reece                         \n",
      "correct=male     guess=female   name=Reza                          \n",
      "correct=male     guess=female   name=Ripley                        \n",
      "correct=male     guess=female   name=Ronny                         \n",
      "correct=male     guess=female   name=Salvatore                     \n",
      "correct=male     guess=female   name=Sasha                         \n",
      "correct=male     guess=female   name=Selby                         \n",
      "correct=male     guess=female   name=Sly                           \n",
      "correct=male     guess=female   name=Solly                         \n",
      "correct=male     guess=female   name=Stanleigh                     \n",
      "correct=male     guess=female   name=Stinky                        \n",
      "correct=male     guess=female   name=Tammy                         \n",
      "correct=male     guess=female   name=Tate                          \n",
      "correct=male     guess=female   name=Thorpe                        \n",
      "correct=male     guess=female   name=Tracey                        \n",
      "correct=male     guess=female   name=Tray                          \n",
      "correct=male     guess=female   name=Verge                         \n",
      "correct=male     guess=female   name=Verne                         \n",
      "correct=male     guess=female   name=Wye                           \n",
      "correct=male     guess=female   name=Yankee                        \n",
      "correct=male     guess=female   name=Zebadiah                      \n"
     ]
    }
   ],
   "source": [
    "for (tag, guess, name) in sorted(errors): # doctest: +ELLIPSIS +NORMALIZE_WHITESPACE\n",
    "        print('correct=%-8s guess=%-8s name=%-30s' % (tag, guess, name))\n"
   ]
  },
  {
   "cell_type": "markdown",
   "metadata": {},
   "source": [
    "### 3. gender_features : Last letter, Last two letters"
   ]
  },
  {
   "cell_type": "code",
   "execution_count": 57,
   "metadata": {},
   "outputs": [],
   "source": [
    "def gender_features3(word):\n",
    "    return {'suffix1': word[-1:],\n",
    "            'suffix2': word[-2:]}"
   ]
  },
  {
   "cell_type": "code",
   "execution_count": 58,
   "metadata": {},
   "outputs": [
    {
     "data": {
      "text/plain": [
       "{'suffix1': 'k', 'suffix2': 'ek'}"
      ]
     },
     "execution_count": 58,
     "metadata": {},
     "output_type": "execute_result"
    }
   ],
   "source": [
    "gender_features3('Shrek')"
   ]
  },
  {
   "cell_type": "code",
   "execution_count": 59,
   "metadata": {},
   "outputs": [
    {
     "name": "stdout",
     "output_type": "stream",
     "text": [
      "0.78\n"
     ]
    }
   ],
   "source": [
    "train_set = [(gender_features3(n), g) for (n,g) in train_names]\n",
    "devtest_set = [(gender_features3(n), g) for (n,g) in devtest_names]\n",
    "classifier = nltk.NaiveBayesClassifier.train(train_set)\n",
    "print(nltk.classify.accuracy(classifier, devtest_set))"
   ]
  },
  {
   "cell_type": "markdown",
   "metadata": {},
   "source": [
    "### 4. gender_features : First Letter, Last two letters, check last letter is vowel or not"
   ]
  },
  {
   "cell_type": "code",
   "execution_count": 60,
   "metadata": {},
   "outputs": [],
   "source": [
    "## uses first letter instead of last letter; keeps last vowel and last 2 char suffix\n",
    "def gender_features4(word):\n",
    "    return {'first_letter': word[0],\n",
    "            'suffix': word[-2:],\n",
    "            'last_is_vowel' : (word[-1] in 'aeiouy')}"
   ]
  },
  {
   "cell_type": "code",
   "execution_count": 61,
   "metadata": {},
   "outputs": [
    {
     "data": {
      "text/plain": [
       "{'first_letter': 'S', 'suffix': 'ek', 'last_is_vowel': False}"
      ]
     },
     "execution_count": 61,
     "metadata": {},
     "output_type": "execute_result"
    }
   ],
   "source": [
    "gender_features4('Shrek')"
   ]
  },
  {
   "cell_type": "code",
   "execution_count": 62,
   "metadata": {},
   "outputs": [
    {
     "name": "stdout",
     "output_type": "stream",
     "text": [
      "0.762\n"
     ]
    }
   ],
   "source": [
    "train_set = [(gender_features4(n), g) for (n,g) in train_names]\n",
    "devtest_set = [(gender_features4(n), g) for (n,g) in devtest_names]\n",
    "classifier = nltk.NaiveBayesClassifier.train(train_set)\n",
    "print(nltk.classify.accuracy(classifier, devtest_set))"
   ]
  },
  {
   "cell_type": "markdown",
   "metadata": {},
   "source": [
    "# Decision tree classifer"
   ]
  },
  {
   "cell_type": "markdown",
   "metadata": {},
   "source": [
    "### 1. gender_features : Last letter only"
   ]
  },
  {
   "cell_type": "code",
   "execution_count": 63,
   "metadata": {},
   "outputs": [
    {
     "name": "stdout",
     "output_type": "stream",
     "text": [
      "0.746\n"
     ]
    }
   ],
   "source": [
    "train_set = [(gender_features(n), g) for (n,g) in train_names]\n",
    "devtest_set = [(gender_features(n), g) for (n,g) in devtest_names]\n",
    "test_set = [(gender_features(n), g) for (n,g) in test_names]\n",
    "dtclassifier = nltk.classify.DecisionTreeClassifier.train(train_set, entropy_cutoff=0,support_cutoff=0)\n",
    "print(nltk.classify.accuracy(dtclassifier, devtest_set))"
   ]
  },
  {
   "cell_type": "markdown",
   "metadata": {},
   "source": [
    "### 2. gender_features : Last letter, First letter"
   ]
  },
  {
   "cell_type": "code",
   "execution_count": 64,
   "metadata": {},
   "outputs": [
    {
     "name": "stdout",
     "output_type": "stream",
     "text": [
      "0.736\n"
     ]
    }
   ],
   "source": [
    "train_set = [(gender_features2(n), g) for (n,g) in train_names]\n",
    "devtest_set = [(gender_features2(n), g) for (n,g) in devtest_names]\n",
    "test_set = [(gender_features2(n), g) for (n,g) in test_names]\n",
    "dtclassifier2 = nltk.classify.DecisionTreeClassifier.train(train_set, entropy_cutoff=0,support_cutoff=0)\n",
    "print(nltk.classify.accuracy(dtclassifier2, devtest_set))"
   ]
  },
  {
   "cell_type": "markdown",
   "metadata": {},
   "source": [
    "### 3. gender_features : Last letter, Last two letters"
   ]
  },
  {
   "cell_type": "code",
   "execution_count": 65,
   "metadata": {},
   "outputs": [
    {
     "name": "stdout",
     "output_type": "stream",
     "text": [
      "0.768\n"
     ]
    }
   ],
   "source": [
    "train_set = [(gender_features3(n), g) for (n,g) in train_names]\n",
    "devtest_set = [(gender_features3(n), g) for (n,g) in devtest_names]\n",
    "test_set = [(gender_features3(n), g) for (n,g) in test_names]\n",
    "dtclassifier3 = nltk.classify.DecisionTreeClassifier.train(train_set, entropy_cutoff=0,support_cutoff=0)\n",
    "print(nltk.classify.accuracy(dtclassifier3, devtest_set))"
   ]
  },
  {
   "cell_type": "markdown",
   "metadata": {},
   "source": [
    "### 4. gender_features : First Letter, Last two letters, check last letter is vowel or not"
   ]
  },
  {
   "cell_type": "code",
   "execution_count": 66,
   "metadata": {},
   "outputs": [
    {
     "name": "stdout",
     "output_type": "stream",
     "text": [
      "0.754\n"
     ]
    }
   ],
   "source": [
    "train_set = [(gender_features4(n), g) for (n,g) in train_names]\n",
    "devtest_set = [(gender_features4(n), g) for (n,g) in devtest_names]\n",
    "test_set = [(gender_features4(n), g) for (n,g) in test_names]\n",
    "dtclassifier4 = nltk.classify.DecisionTreeClassifier.train(train_set, entropy_cutoff=0,support_cutoff=0)\n",
    "print(nltk.classify.accuracy(dtclassifier4, devtest_set))"
   ]
  },
  {
   "cell_type": "markdown",
   "metadata": {},
   "source": [
    "Error testing with decisiontree\n"
   ]
  },
  {
   "cell_type": "code",
   "execution_count": 67,
   "metadata": {},
   "outputs": [
    {
     "name": "stdout",
     "output_type": "stream",
     "text": [
      "correct=female   guess=male     name=Auguste                       \n",
      "correct=female   guess=male     name=Aurel                         \n",
      "correct=female   guess=male     name=Bab                           \n",
      "correct=female   guess=male     name=Barbabra                      \n",
      "correct=female   guess=male     name=Courtenay                     \n",
      "correct=female   guess=male     name=Dael                          \n",
      "correct=female   guess=male     name=Damaris                       \n",
      "correct=female   guess=male     name=Darryl                        \n",
      "correct=female   guess=male     name=Denys                         \n",
      "correct=female   guess=male     name=Diann                         \n",
      "correct=female   guess=male     name=Erinn                         \n",
      "correct=female   guess=male     name=Flory                         \n",
      "correct=female   guess=male     name=Flower                        \n",
      "correct=female   guess=male     name=Fran                          \n",
      "correct=female   guess=male     name=Friederike                    \n",
      "correct=female   guess=male     name=Gates                         \n",
      "correct=female   guess=male     name=Harley                        \n",
      "correct=female   guess=male     name=Hazel                         \n",
      "correct=female   guess=male     name=Helyn                         \n",
      "correct=female   guess=male     name=Ibby                          \n",
      "correct=female   guess=male     name=Imogene                       \n",
      "correct=female   guess=male     name=Inger                         \n",
      "correct=female   guess=male     name=Janet                         \n",
      "correct=female   guess=male     name=Janot                         \n",
      "correct=female   guess=male     name=Kimberlee                     \n",
      "correct=female   guess=male     name=Lark                          \n",
      "correct=female   guess=male     name=Leanor                        \n",
      "correct=female   guess=male     name=Leigh                         \n",
      "correct=female   guess=male     name=Lou                           \n",
      "correct=female   guess=male     name=Maddie                        \n",
      "correct=female   guess=male     name=Marty                         \n",
      "correct=female   guess=male     name=Meridith                      \n",
      "correct=female   guess=male     name=Michel                        \n",
      "correct=female   guess=male     name=Mildrid                       \n",
      "correct=female   guess=male     name=Misty                         \n",
      "correct=female   guess=male     name=Parwane                       \n",
      "correct=female   guess=male     name=Pattie                        \n",
      "correct=female   guess=male     name=Pearle                        \n",
      "correct=female   guess=male     name=Pennie                        \n",
      "correct=female   guess=male     name=Philly                        \n",
      "correct=female   guess=male     name=Ranice                        \n",
      "correct=female   guess=male     name=Remy                          \n",
      "correct=female   guess=male     name=Ricky                         \n",
      "correct=female   guess=male     name=Sapphire                      \n",
      "correct=female   guess=male     name=Star                          \n",
      "correct=female   guess=male     name=Terri                         \n",
      "correct=female   guess=male     name=Tiphanie                      \n",
      "correct=female   guess=male     name=Vonny                         \n",
      "correct=female   guess=male     name=Wandie                        \n",
      "correct=female   guess=male     name=Winifred                      \n",
      "correct=female   guess=male     name=Yetty                         \n",
      "correct=male     guess=female   name=Aguste                        \n",
      "correct=male     guess=female   name=Ajay                          \n",
      "correct=male     guess=female   name=Alex                          \n",
      "correct=male     guess=female   name=Alix                          \n",
      "correct=male     guess=female   name=Ashby                         \n",
      "correct=male     guess=female   name=Baillie                       \n",
      "correct=male     guess=female   name=Bartie                        \n",
      "correct=male     guess=female   name=Bartolomei                    \n",
      "correct=male     guess=female   name=Berke                         \n",
      "correct=male     guess=female   name=Bo                            \n",
      "correct=male     guess=female   name=Brice                         \n",
      "correct=male     guess=female   name=Brinkley                      \n",
      "correct=male     guess=female   name=Buddy                         \n",
      "correct=male     guess=female   name=Caryl                         \n",
      "correct=male     guess=female   name=Chevy                         \n",
      "correct=male     guess=female   name=Clare                         \n",
      "correct=male     guess=female   name=Clarence                      \n",
      "correct=male     guess=female   name=Connie                        \n",
      "correct=male     guess=female   name=Dale                          \n",
      "correct=male     guess=female   name=Darius                        \n",
      "correct=male     guess=female   name=Drew                          \n",
      "correct=male     guess=female   name=Earle                         \n",
      "correct=male     guess=female   name=Elijah                        \n",
      "correct=male     guess=female   name=Eustace                       \n",
      "correct=male     guess=female   name=Gordie                        \n",
      "correct=male     guess=female   name=Granville                     \n",
      "correct=male     guess=female   name=Guillaume                     \n",
      "correct=male     guess=female   name=Hadley                        \n",
      "correct=male     guess=female   name=Hale                          \n",
      "correct=male     guess=female   name=Henderson                     \n",
      "correct=male     guess=female   name=Hillary                       \n",
      "correct=male     guess=female   name=Ivor                          \n",
      "correct=male     guess=female   name=Jeremiah                      \n",
      "correct=male     guess=female   name=Jermain                       \n",
      "correct=male     guess=female   name=Jimmy                         \n",
      "correct=male     guess=female   name=Joey                          \n",
      "correct=male     guess=female   name=Jon                           \n",
      "correct=male     guess=female   name=Jordan                        \n",
      "correct=male     guess=female   name=Judy                          \n",
      "correct=male     guess=female   name=Julie                         \n",
      "correct=male     guess=female   name=Kalil                         \n",
      "correct=male     guess=female   name=Karel                         \n",
      "correct=male     guess=female   name=Karsten                       \n",
      "correct=male     guess=female   name=Keene                         \n",
      "correct=male     guess=female   name=Kim                           \n",
      "correct=male     guess=female   name=Kirby                         \n",
      "correct=male     guess=female   name=Lance                         \n",
      "correct=male     guess=female   name=Len                           \n",
      "correct=male     guess=female   name=Lennie                        \n",
      "correct=male     guess=female   name=Lex                           \n",
      "correct=male     guess=female   name=Llewellyn                     \n",
      "correct=male     guess=female   name=Louie                         \n",
      "correct=male     guess=female   name=Marlin                        \n",
      "correct=male     guess=female   name=Maurie                        \n",
      "correct=male     guess=female   name=Max                           \n",
      "correct=male     guess=female   name=Michal                        \n",
      "correct=male     guess=female   name=Myles                         \n",
      "correct=male     guess=female   name=Nealy                         \n",
      "correct=male     guess=female   name=Neddie                        \n",
      "correct=male     guess=female   name=Obie                          \n",
      "correct=male     guess=female   name=Pembroke                      \n",
      "correct=male     guess=female   name=Reza                          \n",
      "correct=male     guess=female   name=Robin                         \n",
      "correct=male     guess=female   name=Rollin                        \n",
      "correct=male     guess=female   name=Ronny                         \n",
      "correct=male     guess=female   name=Sasha                         \n",
      "correct=male     guess=female   name=Saunderson                    \n",
      "correct=male     guess=female   name=Schroeder                     \n",
      "correct=male     guess=female   name=Selby                         \n",
      "correct=male     guess=female   name=Sly                           \n",
      "correct=male     guess=female   name=Solly                         \n",
      "correct=male     guess=female   name=Stanleigh                     \n",
      "correct=male     guess=female   name=Sullivan                      \n",
      "correct=male     guess=female   name=Tammy                         \n",
      "correct=male     guess=female   name=Tate                          \n",
      "correct=male     guess=female   name=Tracey                        \n",
      "correct=male     guess=female   name=Tray                          \n",
      "correct=male     guess=female   name=Verge                         \n",
      "correct=male     guess=female   name=Verne                         \n",
      "correct=male     guess=female   name=Vincents                      \n",
      "correct=male     guess=female   name=Yankee                        \n"
     ]
    }
   ],
   "source": [
    "errors = []\n",
    "for (name, tag) in devtest_names:\n",
    "    guess = dtclassifier2.classify(gender_features2(name))\n",
    "    if guess != tag:\n",
    "        errors.append((tag, guess, name))\n",
    "\n",
    "for (tag, guess, name) in sorted(errors):\n",
    "    print('correct=%-8s guess=%-8s name=%-30s' %(tag, guess, name))"
   ]
  },
  {
   "cell_type": "code",
   "execution_count": null,
   "metadata": {},
   "outputs": [],
   "source": []
  }
 ],
 "metadata": {
  "kernelspec": {
   "display_name": "Python 3",
   "language": "python",
   "name": "python3"
  },
  "language_info": {
   "codemirror_mode": {
    "name": "ipython",
    "version": 3
   },
   "file_extension": ".py",
   "mimetype": "text/x-python",
   "name": "python",
   "nbconvert_exporter": "python",
   "pygments_lexer": "ipython3",
   "version": "3.7.6"
  }
 },
 "nbformat": 4,
 "nbformat_minor": 4
}
