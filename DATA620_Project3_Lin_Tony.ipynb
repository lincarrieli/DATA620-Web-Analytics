{
 "cells": [
  {
   "cell_type": "markdown",
   "metadata": {},
   "source": [
    "## DATA 620 Project 3\n",
    "\n",
    "Using any of the three classifiers described in chapter 6 of Natural Language Processing with Python, and any features you can think of, build the best name gender classifier you can. Begin by splitting the Names Corpus into three subsets: 500 words for the test set, 500 words for the dev-test set, and the remaining 6900 words for the training set. Then, starting with the example name gender classifier, make incremental improvements. Use the dev-test set to check your progress. Once you are satisfied with your classifier, check its final performance on the test set. How does the performance on the test set compare to the performance on the dev-test set? Is this what you'd expect?\n",
    "\n",
    "Project is due 4/11.\n",
    "\n",
    "Source: Natural Language Processing with Python, exercise 6.10.2."
   ]
  },
  {
   "cell_type": "code",
   "execution_count": 1,
   "metadata": {},
   "outputs": [],
   "source": [
    "import nltk\n",
    "from nltk.corpus import names\n",
    "import random\n",
    "import pandas as pd\n",
    "from nltk import NaiveBayesClassifier\n",
    "from nltk import DecisionTreeClassifier\n",
    "from nltk import classify\n"
   ]
  },
  {
   "cell_type": "code",
   "execution_count": 2,
   "metadata": {},
   "outputs": [],
   "source": [
    "names = ([(name, 'male') for name in names.words('male.txt')] +\n",
    "        [(name, 'female') for name in names.words('female.txt')])\n",
    "random.shuffle(names)"
   ]
  },
  {
   "cell_type": "code",
   "execution_count": 3,
   "metadata": {},
   "outputs": [
    {
     "data": {
      "text/plain": [
       "{'last_letter': 'k'}"
      ]
     },
     "execution_count": 3,
     "metadata": {},
     "output_type": "execute_result"
    }
   ],
   "source": [
    "def gender_features(word):\n",
    "    return {'last_letter': word[-1]}\n",
    "gender_features('Shrek')"
   ]
  },
  {
   "cell_type": "code",
   "execution_count": 4,
   "metadata": {},
   "outputs": [],
   "source": [
    "featuresets = [(gender_features(n), g) for (n,g) in names]\n",
    "train_set, test_set = featuresets[500:], featuresets[:500]\n",
    "classifier = nltk.NaiveBayesClassifier.train(train_set)"
   ]
  },
  {
   "cell_type": "code",
   "execution_count": 5,
   "metadata": {},
   "outputs": [
    {
     "data": {
      "text/plain": [
       "'male'"
      ]
     },
     "execution_count": 5,
     "metadata": {},
     "output_type": "execute_result"
    }
   ],
   "source": [
    "classifier.classify(gender_features('Neo'))"
   ]
  },
  {
   "cell_type": "code",
   "execution_count": 7,
   "metadata": {},
   "outputs": [
    {
     "name": "stdout",
     "output_type": "stream",
     "text": [
      "0.772\n"
     ]
    }
   ],
   "source": [
    "print(nltk.classify.accuracy(classifier, test_set))"
   ]
  },
  {
   "cell_type": "code",
   "execution_count": 8,
   "metadata": {},
   "outputs": [
    {
     "name": "stdout",
     "output_type": "stream",
     "text": [
      "Most Informative Features\n",
      "             last_letter = 'a'            female : male   =     35.8 : 1.0\n",
      "             last_letter = 'k'              male : female =     31.9 : 1.0\n",
      "             last_letter = 'f'              male : female =     17.1 : 1.0\n",
      "             last_letter = 'p'              male : female =     11.1 : 1.0\n",
      "             last_letter = 'v'              male : female =     10.4 : 1.0\n"
     ]
    }
   ],
   "source": [
    "classifier.show_most_informative_features(5)"
   ]
  },
  {
   "cell_type": "code",
   "execution_count": 10,
   "metadata": {},
   "outputs": [],
   "source": [
    "from nltk.classify import apply_features\n",
    "train_set = apply_features(gender_features, names[500:])\n",
    "test_set = apply_features(gender_features, names[:500])"
   ]
  },
  {
   "cell_type": "raw",
   "metadata": {},
   "source": [
    "gender_features return first letter and last letter of name"
   ]
  },
  {
   "cell_type": "code",
   "execution_count": 14,
   "metadata": {},
   "outputs": [
    {
     "data": {
      "text/plain": [
       "{'firstletter': 'j',\n",
       " 'lastletter': 'n',\n",
       " 'count(a)': 0,\n",
       " 'has(a)': False,\n",
       " 'count(b)': 0,\n",
       " 'has(b)': False,\n",
       " 'count(c)': 0,\n",
       " 'has(c)': False,\n",
       " 'count(d)': 0,\n",
       " 'has(d)': False,\n",
       " 'count(e)': 0,\n",
       " 'has(e)': False,\n",
       " 'count(f)': 0,\n",
       " 'has(f)': False,\n",
       " 'count(g)': 0,\n",
       " 'has(g)': False,\n",
       " 'count(h)': 1,\n",
       " 'has(h)': True,\n",
       " 'count(i)': 0,\n",
       " 'has(i)': False,\n",
       " 'count(j)': 1,\n",
       " 'has(j)': True,\n",
       " 'count(k)': 0,\n",
       " 'has(k)': False,\n",
       " 'count(l)': 0,\n",
       " 'has(l)': False,\n",
       " 'count(m)': 0,\n",
       " 'has(m)': False,\n",
       " 'count(n)': 1,\n",
       " 'has(n)': True,\n",
       " 'count(o)': 1,\n",
       " 'has(o)': True,\n",
       " 'count(p)': 0,\n",
       " 'has(p)': False,\n",
       " 'count(q)': 0,\n",
       " 'has(q)': False,\n",
       " 'count(r)': 0,\n",
       " 'has(r)': False,\n",
       " 'count(s)': 0,\n",
       " 'has(s)': False,\n",
       " 'count(t)': 0,\n",
       " 'has(t)': False,\n",
       " 'count(u)': 0,\n",
       " 'has(u)': False,\n",
       " 'count(v)': 0,\n",
       " 'has(v)': False,\n",
       " 'count(w)': 0,\n",
       " 'has(w)': False,\n",
       " 'count(x)': 0,\n",
       " 'has(x)': False,\n",
       " 'count(y)': 0,\n",
       " 'has(y)': False,\n",
       " 'count(z)': 0,\n",
       " 'has(z)': False}"
      ]
     },
     "execution_count": 14,
     "metadata": {},
     "output_type": "execute_result"
    }
   ],
   "source": [
    "def gender_features2(name):\n",
    "    features = {}\n",
    "    features[\"firstletter\"] = name[0].lower()\n",
    "    features[\"lastletter\"] = name[-1].lower()\n",
    "    for letter in 'abcdefghijklmnopqrstuvwxyz':\n",
    "        features[\"count(%s)\" % letter] = name.lower().count(letter)\n",
    "        features[\"has(%s)\" % letter] = (letter in name.lower())\n",
    "    return features\n",
    "gender_features2('John')"
   ]
  },
  {
   "cell_type": "markdown",
   "metadata": {},
   "source": [
    "NaiveBayesClassifier"
   ]
  },
  {
   "cell_type": "code",
   "execution_count": 15,
   "metadata": {},
   "outputs": [
    {
     "name": "stdout",
     "output_type": "stream",
     "text": [
      "0.782\n"
     ]
    }
   ],
   "source": [
    "featuresets = [(gender_features2(n), g) for (n,g) in names]\n",
    "train_set, test_set = featuresets[500:], featuresets[:500]\n",
    "classifier = nltk.NaiveBayesClassifier.train(train_set)\n",
    "print(nltk.classify.accuracy(classifier, test_set))\n"
   ]
  },
  {
   "cell_type": "code",
   "execution_count": 18,
   "metadata": {},
   "outputs": [],
   "source": [
    "train_names = names[1000:]\n",
    "devtest_names = names[500:1000]\n",
    "test_names = names[:500]"
   ]
  },
  {
   "cell_type": "code",
   "execution_count": 19,
   "metadata": {},
   "outputs": [
    {
     "name": "stdout",
     "output_type": "stream",
     "text": [
      "500 500 6944 7944\n"
     ]
    }
   ],
   "source": [
    "print(len(test_names), len(devtest_names), len(train_names), len(names))"
   ]
  },
  {
   "cell_type": "code",
   "execution_count": 21,
   "metadata": {},
   "outputs": [
    {
     "name": "stdout",
     "output_type": "stream",
     "text": [
      "0.776\n"
     ]
    }
   ],
   "source": [
    "train_set = [(gender_features(n), g) for (n,g) in train_names]\n",
    "devtest_set = [(gender_features(n), g) for (n,g) in devtest_names]\n",
    "test_set = [(gender_features(n), g) for (n,g) in test_names]\n",
    "classifier = nltk.NaiveBayesClassifier.train(train_set)\n",
    "print(nltk.classify.accuracy(classifier, devtest_set))"
   ]
  },
  {
   "cell_type": "markdown",
   "metadata": {},
   "source": [
    "Using the dev-test set, we can generate a list of the errors that the classifier makes when\n",
    "predicting name genders:"
   ]
  },
  {
   "cell_type": "code",
   "execution_count": 22,
   "metadata": {},
   "outputs": [],
   "source": [
    "errors = []\n",
    "for (name, tag) in devtest_names:\n",
    "    guess = classifier.classify(gender_features(name))\n",
    "    if guess != tag:\n",
    "        errors.append( (tag, guess, name) )"
   ]
  },
  {
   "cell_type": "markdown",
   "metadata": {},
   "source": [
    "The names classifier\n",
    "that we have built generates about 100 errors on the dev-test corpus:"
   ]
  },
  {
   "cell_type": "code",
   "execution_count": 26,
   "metadata": {},
   "outputs": [
    {
     "name": "stdout",
     "output_type": "stream",
     "text": [
      "correct=female   guess=male     name=Abigail                       \n",
      "correct=female   guess=male     name=Alyson                        \n",
      "correct=female   guess=male     name=Anne-Mar                      \n",
      "correct=female   guess=male     name=April                         \n",
      "correct=female   guess=male     name=Avril                         \n",
      "correct=female   guess=male     name=Birgit                        \n",
      "correct=female   guess=male     name=Camel                         \n",
      "correct=female   guess=male     name=Cameo                         \n",
      "correct=female   guess=male     name=Carolyn                       \n",
      "correct=female   guess=male     name=Chrystal                      \n",
      "correct=female   guess=male     name=Cybill                        \n",
      "correct=female   guess=male     name=Devon                         \n",
      "correct=female   guess=male     name=Dyann                         \n",
      "correct=female   guess=male     name=Edin                          \n",
      "correct=female   guess=male     name=Ethelind                      \n",
      "correct=female   guess=male     name=Flower                        \n",
      "correct=female   guess=male     name=Gabriell                      \n",
      "correct=female   guess=male     name=Gertrud                       \n",
      "correct=female   guess=male     name=Heather                       \n",
      "correct=female   guess=male     name=Iris                          \n",
      "correct=female   guess=male     name=Joan                          \n",
      "correct=female   guess=male     name=Joscelin                      \n",
      "correct=female   guess=male     name=Joselyn                       \n",
      "correct=female   guess=male     name=Jourdan                       \n",
      "correct=female   guess=male     name=Joyann                        \n",
      "correct=female   guess=male     name=Lilas                         \n",
      "correct=female   guess=male     name=Lin                           \n",
      "correct=female   guess=male     name=Lind                          \n",
      "correct=female   guess=male     name=Linnet                        \n",
      "correct=female   guess=male     name=Lois                          \n",
      "correct=female   guess=male     name=Lyndell                       \n",
      "correct=female   guess=male     name=Madlen                        \n",
      "correct=female   guess=male     name=Margit                        \n",
      "correct=female   guess=male     name=Marylin                       \n",
      "correct=female   guess=male     name=Meagan                        \n",
      "correct=female   guess=male     name=Meg                           \n",
      "correct=female   guess=male     name=Meghan                        \n",
      "correct=female   guess=male     name=Mercedes                      \n",
      "correct=female   guess=male     name=Miriam                        \n",
      "correct=female   guess=male     name=Raynell                       \n",
      "correct=female   guess=male     name=Reiko                         \n",
      "correct=female   guess=male     name=Roseann                       \n",
      "correct=female   guess=male     name=Sharon                        \n",
      "correct=female   guess=male     name=Sherill                       \n",
      "correct=female   guess=male     name=Tim                           \n",
      "correct=female   guess=male     name=Trix                          \n",
      "correct=male     guess=female   name=Alaa                          \n",
      "correct=male     guess=female   name=Allie                         \n",
      "correct=male     guess=female   name=Archy                         \n",
      "correct=male     guess=female   name=Baillie                       \n",
      "correct=male     guess=female   name=Bealle                        \n",
      "correct=male     guess=female   name=Berke                         \n",
      "correct=male     guess=female   name=Bertie                        \n",
      "correct=male     guess=female   name=Buddy                         \n",
      "correct=male     guess=female   name=Chancey                       \n",
      "correct=male     guess=female   name=Constantine                   \n",
      "correct=male     guess=female   name=Cortese                       \n",
      "correct=male     guess=female   name=Costa                         \n",
      "correct=male     guess=female   name=Dannie                        \n",
      "correct=male     guess=female   name=Ellsworth                     \n",
      "correct=male     guess=female   name=Enrique                       \n",
      "correct=male     guess=female   name=French                        \n",
      "correct=male     guess=female   name=Garth                         \n",
      "correct=male     guess=female   name=Hamish                        \n",
      "correct=male     guess=female   name=Ike                           \n",
      "correct=male     guess=female   name=Jeffie                        \n",
      "correct=male     guess=female   name=Jerrome                       \n",
      "correct=male     guess=female   name=Jessey                        \n",
      "correct=male     guess=female   name=Jessie                        \n",
      "correct=male     guess=female   name=Juanita                       \n",
      "correct=male     guess=female   name=Jude                          \n",
      "correct=male     guess=female   name=Kenneth                       \n",
      "correct=male     guess=female   name=Lane                          \n",
      "correct=male     guess=female   name=Louie                         \n",
      "correct=male     guess=female   name=Maddy                         \n",
      "correct=male     guess=female   name=Marty                         \n",
      "correct=male     guess=female   name=Mattie                        \n",
      "correct=male     guess=female   name=Merry                         \n",
      "correct=male     guess=female   name=Mickie                        \n",
      "correct=male     guess=female   name=Moe                           \n",
      "correct=male     guess=female   name=Morry                         \n",
      "correct=male     guess=female   name=Neale                         \n",
      "correct=male     guess=female   name=Nickie                        \n",
      "correct=male     guess=female   name=Obie                          \n",
      "correct=male     guess=female   name=Parry                         \n",
      "correct=male     guess=female   name=Pattie                        \n",
      "correct=male     guess=female   name=Pryce                         \n",
      "correct=male     guess=female   name=Quigly                        \n",
      "correct=male     guess=female   name=Raleigh                       \n",
      "correct=male     guess=female   name=Rawley                        \n",
      "correct=male     guess=female   name=Rice                          \n",
      "correct=male     guess=female   name=Ritch                         \n",
      "correct=male     guess=female   name=Roice                         \n",
      "correct=male     guess=female   name=Roscoe                        \n",
      "correct=male     guess=female   name=Salvatore                     \n",
      "correct=male     guess=female   name=Selby                         \n",
      "correct=male     guess=female   name=Simone                        \n",
      "correct=male     guess=female   name=Stanleigh                     \n",
      "correct=male     guess=female   name=Tanney                        \n",
      "correct=male     guess=female   name=Toddy                         \n",
      "correct=male     guess=female   name=Tome                          \n",
      "correct=male     guess=female   name=Tonnie                        \n",
      "correct=male     guess=female   name=Torrey                        \n",
      "correct=male     guess=female   name=Verney                        \n",
      "correct=male     guess=female   name=Wade                          \n",
      "correct=male     guess=female   name=Wallie                        \n",
      "correct=male     guess=female   name=Wally                         \n",
      "correct=male     guess=female   name=Welby                         \n",
      "correct=male     guess=female   name=Welch                         \n",
      "correct=male     guess=female   name=Yale                          \n",
      "correct=male     guess=female   name=Zedekiah                      \n",
      "correct=male     guess=female   name=Zolly                         \n"
     ]
    }
   ],
   "source": [
    "for (tag, guess, name) in sorted(errors): # doctest: +ELLIPSIS +NORMALIZE_WHITESPACE\n",
    "        print('correct=%-8s guess=%-8s name=%-30s' % (tag, guess, name))\n"
   ]
  },
  {
   "cell_type": "code",
   "execution_count": 27,
   "metadata": {},
   "outputs": [],
   "source": [
    "def gender_features(word):\n",
    "    return {'suffix1': word[-1:],\n",
    "            'suffix2': word[-2:]}"
   ]
  },
  {
   "cell_type": "code",
   "execution_count": 28,
   "metadata": {},
   "outputs": [
    {
     "name": "stdout",
     "output_type": "stream",
     "text": [
      "0.798\n"
     ]
    }
   ],
   "source": [
    "train_set = [(gender_features(n), g) for (n,g) in train_names]\n",
    "devtest_set = [(gender_features(n), g) for (n,g) in devtest_names]\n",
    "classifier = nltk.NaiveBayesClassifier.train(train_set)\n",
    "print(nltk.classify.accuracy(classifier, devtest_set))"
   ]
  },
  {
   "cell_type": "code",
   "execution_count": null,
   "metadata": {},
   "outputs": [],
   "source": []
  }
 ],
 "metadata": {
  "kernelspec": {
   "display_name": "Python 3",
   "language": "python",
   "name": "python3"
  },
  "language_info": {
   "codemirror_mode": {
    "name": "ipython",
    "version": 3
   },
   "file_extension": ".py",
   "mimetype": "text/x-python",
   "name": "python",
   "nbconvert_exporter": "python",
   "pygments_lexer": "ipython3",
   "version": "3.7.6"
  }
 },
 "nbformat": 4,
 "nbformat_minor": 4
}
