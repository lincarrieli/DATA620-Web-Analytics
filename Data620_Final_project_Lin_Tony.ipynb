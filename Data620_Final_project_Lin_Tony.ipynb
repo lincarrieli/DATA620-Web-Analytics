{
 "cells": [
  {
   "cell_type": "markdown",
   "metadata": {},
   "source": [
    "### DATA 620 Web Analytics\n",
    "### Sentiment Analysis of Presidential Inauguration Speeches\n",
    "Lin Li and Tony Mai"
   ]
  },
  {
   "cell_type": "markdown",
   "metadata": {},
   "source": [
    "### Part 1 - Collect inuagural speeches of presidents"
   ]
  },
  {
   "cell_type": "code",
   "execution_count": 1,
   "metadata": {},
   "outputs": [],
   "source": [
    "import requests\n",
    "from bs4 import BeautifulSoup\n",
    "import pandas as pd"
   ]
  },
  {
   "cell_type": "markdown",
   "metadata": {},
   "source": [
    "We adapted the code for scraping the speech data from https://medium.com/@med.taha.elahmar/an-nlp-case-study-with-us-presidents-inaugural-speeches-part-1-2-data-collection-and-f1e2c5df5e50\n",
    "\n",
    "We added comments to the code to demonstrate our understanding of the script"
   ]
  },
  {
   "cell_type": "code",
   "execution_count": 2,
   "metadata": {},
   "outputs": [],
   "source": [
    "# Get list of urls of individual speech from website\n",
    "\n",
    "def get_urls(url):\n",
    "    '''Returns list of transcript urls'''\n",
    "    \n",
    "    page = requests.get(url).text \n",
    "    soup=BeautifulSoup(page, 'lxml')\n",
    "    url_table = soup.find(\"table\", class_='table').find_all(\"a\")\n",
    "    return [u[\"href\"] for u in url_table]\n",
    "\n",
    "urls = get_urls(\"https://www.presidency.ucsb.edu/documents/presidential-documents-archive-guidebook/inaugural-addresses\")"
   ]
  },
  {
   "cell_type": "code",
   "execution_count": 13,
   "metadata": {},
   "outputs": [],
   "source": [
    "# Scrape speech transcripts from each url\n",
    "\n",
    "transcripts = pd.DataFrame()\n",
    "def get_transcripts(urls, transcripts):\n",
    "    for u in urls:\n",
    "        page = requests.get(u).text\n",
    "        soup = BeautifulSoup(page, 'lxml')\n",
    "        president = soup.find(\"h3\", class_=\"diet-title\").text\n",
    "        year = soup.find(\"span\", class_=\"date-display-single\").text.split(',')[1].strip()\n",
    "        content = soup.find(\"div\", class_=\"field-docs-content\").text\n",
    "        record = {\n",
    "            'president' : president,\n",
    "            'year' : year,\n",
    "            'content' : content\n",
    "        }\n",
    "        transcripts = transcripts.append(record, ignore_index=True)\n",
    "\n",
    "    return transcripts\n",
    "data = get_transcripts(urls,transcripts)\n"
   ]
  },
  {
   "cell_type": "code",
   "execution_count": 37,
   "metadata": {},
   "outputs": [],
   "source": [
    "data.to_csv(\"president_speeches.csv\", index = False, header = True)"
   ]
  },
  {
   "cell_type": "markdown",
   "metadata": {},
   "source": [
    "### Part 2 - Text processing\n"
   ]
  },
  {
   "cell_type": "code",
   "execution_count": 80,
   "metadata": {},
   "outputs": [],
   "source": [
    "import re\n",
    "import string\n",
    "import pandas as pd\n",
    "import numpy as np\n",
    "import nltk\n",
    "from nltk.corpus import stopwords"
   ]
  },
  {
   "cell_type": "code",
   "execution_count": 81,
   "metadata": {},
   "outputs": [
    {
     "data": {
      "text/html": [
       "<div>\n",
       "<style scoped>\n",
       "    .dataframe tbody tr th:only-of-type {\n",
       "        vertical-align: middle;\n",
       "    }\n",
       "\n",
       "    .dataframe tbody tr th {\n",
       "        vertical-align: top;\n",
       "    }\n",
       "\n",
       "    .dataframe thead th {\n",
       "        text-align: right;\n",
       "    }\n",
       "</style>\n",
       "<table border=\"1\" class=\"dataframe\">\n",
       "  <thead>\n",
       "    <tr style=\"text-align: right;\">\n",
       "      <th></th>\n",
       "      <th>content</th>\n",
       "      <th>president</th>\n",
       "      <th>year</th>\n",
       "    </tr>\n",
       "  </thead>\n",
       "  <tbody>\n",
       "    <tr>\n",
       "      <th>0</th>\n",
       "      <td>fellow citizens of the senate and of the house...</td>\n",
       "      <td>George Washington</td>\n",
       "      <td>1789</td>\n",
       "    </tr>\n",
       "    <tr>\n",
       "      <th>1</th>\n",
       "      <td>fellow citizensi am again called upon by the v...</td>\n",
       "      <td>George Washington</td>\n",
       "      <td>1793</td>\n",
       "    </tr>\n",
       "    <tr>\n",
       "      <th>2</th>\n",
       "      <td>when it was first perceived, in early times, t...</td>\n",
       "      <td>John Adams</td>\n",
       "      <td>1797</td>\n",
       "    </tr>\n",
       "    <tr>\n",
       "      <th>3</th>\n",
       "      <td>friends and fellow citizenscalled upon to unde...</td>\n",
       "      <td>Thomas Jefferson</td>\n",
       "      <td>1801</td>\n",
       "    </tr>\n",
       "    <tr>\n",
       "      <th>4</th>\n",
       "      <td>proceeding, fellow citizens, to that qualifica...</td>\n",
       "      <td>Thomas Jefferson</td>\n",
       "      <td>1805</td>\n",
       "    </tr>\n",
       "  </tbody>\n",
       "</table>\n",
       "</div>"
      ],
      "text/plain": [
       "                                             content          president  year\n",
       "0  fellow citizens of the senate and of the house...  George Washington  1789\n",
       "1  fellow citizensi am again called upon by the v...  George Washington  1793\n",
       "2  when it was first perceived, in early times, t...         John Adams  1797\n",
       "3  friends and fellow citizenscalled upon to unde...   Thomas Jefferson  1801\n",
       "4  proceeding, fellow citizens, to that qualifica...   Thomas Jefferson  1805"
      ]
     },
     "execution_count": 81,
     "metadata": {},
     "output_type": "execute_result"
    }
   ],
   "source": [
    "speeches = pd.read_csv('https://raw.githubusercontent.com/lincarrieli/DATA620-Web-Analytics/main/president_speeches.csv')\n",
    "speeches.head()"
   ]
  },
  {
   "cell_type": "code",
   "execution_count": 82,
   "metadata": {},
   "outputs": [],
   "source": [
    "# Use regex to remove noise in the content \n",
    "def clean_content(content):\n",
    "    content = content.replace('\\n', '')\n",
    "    content = content.replace(':', '')\n",
    "    content = content.replace('-', ' ')\n",
    "    content = content.lower()\n",
    "    return content\n"
   ]
  },
  {
   "cell_type": "code",
   "execution_count": 95,
   "metadata": {},
   "outputs": [],
   "source": [
    "# Create new dataframe with clean content\n",
    "clean_data = speeches\n",
    "clean_data['content'] = clean_data['content'].map(clean_content)\n",
    "#clean_data['content']"
   ]
  },
  {
   "cell_type": "code",
   "execution_count": 94,
   "metadata": {},
   "outputs": [
    {
     "data": {
      "text/plain": [
       "0     [fellow, citizens, senate, house, representati...\n",
       "1     [fellow, citizensi, called, upon, voice, count...\n",
       "2     [first, perceived, early, times, middle, cours...\n",
       "3     [friends, fellow, citizenscalled, upon, undert...\n",
       "4     [proceeding, fellow, citizens, qualification, ...\n",
       "5     [unwilling, depart, examples, revered, authori...\n",
       "6     [add, solemnity, oath, obligations, imposed, s...\n",
       "7     [destitute, feeling, deeply, affected, strong,...\n",
       "8     [fellow, citizensi, shall, attempt, describe, ...\n",
       "9     [compliance, usage, coeval, existence, federal...\n",
       "10    [fellow, citizensabout, undertake, arduous, du...\n",
       "11    [fellow, citizensthe, american, people, expres...\n",
       "12    [fellow, citizensthe, practice, predecessors, ...\n",
       "13    [called, retirement, supposed, continue, resid...\n",
       "14    [fellow, citizenswithout, solicitation, part, ...\n",
       "15    [elected, american, people, highest, office, k...\n",
       "16    [countrymenit, relief, feel, heart, know, pers...\n",
       "17    [fellow, citizensi, appear, day, take, solemn,...\n",
       "18    [fellow, citizens, united, statesin, complianc...\n",
       "19    [fellow, countrymenat, second, appearing, take...\n",
       "20    [citizens, united, statesyour, suffrages, elec...\n",
       "21    [fellow, citizensunder, providence, called, se...\n",
       "22    [fellow, citizenswe, assembled, repeat, public...\n",
       "23    [fellow, citizenswe, stand, day, upon, eminenc...\n",
       "24    [fellow, citizensin, presence, vast, assemblag...\n",
       "25    [fellow, citizensthere, constitutional, legal,...\n",
       "26    [fellow, citizensin, obedience, mandate, count...\n",
       "27    [fellow, citizensin, obedience, people, presen...\n",
       "28    [fellow, citizenswhen, assembled, 4th, march, ...\n",
       "29    [fellow, citizensno, people, earth, cause, tha...\n",
       "30    [fellow, citizensanyone, taken, oath, taken, m...\n",
       "31    [change, government, began, two, years, ago, h...\n",
       "32    [four, years, elapsed, since, last, stood, pla...\n",
       "33    [one, surveys, world, great, storm, noting, ma...\n",
       "34    [countrymenno, one, contemplate, current, cond...\n",
       "35    [delivered, person, capitolmy, countrymenthis,...\n",
       "36    [certain, fellow, americans, expect, induction...\n",
       "37    [four, years, ago, met, inaugurate, president,...\n",
       "38    [national, day, inauguration, since, 1789, peo...\n",
       "39    [mr, chief, justice, mr, vice, president, frie...\n",
       "40    [delivered, person, capitolmr, vice, president...\n",
       "41    [friends, begin, expression, thoughts, deem, a...\n",
       "42    [mr, chairman, mr, vice, president, mr, chief,...\n",
       "43    [vice, president, johnson, mr, speaker, mr, ch...\n",
       "44    [fellow, countrymenon, occasion, oath, taken, ...\n",
       "45    [senator, dirksen, mr, chief, justice, mr, vic...\n",
       "46    [richard, nixon, solemnly, swear, faithfully, ...\n",
       "47    [nation, want, thank, predecessor, done, heal,...\n",
       "48    [senator, hatfield, mr, chief, justice, mr, pr...\n",
       "49    [senator, mathias, chief, justice, burger, vic...\n",
       "50    [mr, chief, justice, mr, president, vice, pres...\n",
       "51    [fellow, citizens, today, celebrate, mystery, ...\n",
       "52    [fellow, citizens, last, presidential, inaugur...\n",
       "53    [thank, chief, justice, rehnquist, president, ...\n",
       "54    [vice, president, cheney, mr, chief, justice, ...\n",
       "55    [fellow, citizens, stand, today, humbled, task...\n",
       "56    [thank, thank, muchvice, president, biden, mr,...\n",
       "57    [chief, justice, roberts, president, carter, p...\n",
       "58    [chief, justice, roberts, vice, president, har...\n",
       "Name: content, dtype: object"
      ]
     },
     "execution_count": 94,
     "metadata": {},
     "output_type": "execute_result"
    }
   ],
   "source": [
    "# Use NLP to further process the content\n",
    "\n",
    "def process_content (text):\n",
    "    # remove punctuation\n",
    "    nopunc = [char for char in text if char not in string.punctuation]\n",
    "    nopunc = ''.join(nopunc)\n",
    "    # remove stopwords\n",
    "    clean_words = [word for word in nopunc.split() if word.lower() not in stopwords.words('english')]\n",
    "    return clean_words\n",
    "\n",
    "clean_data['content'].apply(process_content)\n"
   ]
  },
  {
   "cell_type": "code",
   "execution_count": null,
   "metadata": {},
   "outputs": [],
   "source": []
  }
 ],
 "metadata": {
  "kernelspec": {
   "display_name": "Python 3",
   "language": "python",
   "name": "python3"
  },
  "language_info": {
   "codemirror_mode": {
    "name": "ipython",
    "version": 3
   },
   "file_extension": ".py",
   "mimetype": "text/x-python",
   "name": "python",
   "nbconvert_exporter": "python",
   "pygments_lexer": "ipython3",
   "version": "3.8.5"
  }
 },
 "nbformat": 4,
 "nbformat_minor": 4
}
