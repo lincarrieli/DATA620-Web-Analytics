{
 "cells": [
  {
   "cell_type": "markdown",
   "metadata": {},
   "source": [
    "### DATA 620 Web Analytics\n",
    "### Sentiment Analysis of Presidential Inauguration Speeches\n",
    "Lin Li and Tony Mai"
   ]
  },
  {
   "cell_type": "markdown",
   "metadata": {},
   "source": [
    "### Part 1 - Collect inuagural speeches of presidents"
   ]
  },
  {
   "cell_type": "code",
   "execution_count": 51,
   "metadata": {},
   "outputs": [],
   "source": [
    "import requests\n",
    "from bs4 import BeautifulSoup\n",
    "import pandas as pd"
   ]
  },
  {
   "cell_type": "markdown",
   "metadata": {},
   "source": [
    "We adapted the code for scraping the speech data from https://medium.com/@med.taha.elahmar/an-nlp-case-study-with-us-presidents-inaugural-speeches-part-1-2-data-collection-and-f1e2c5df5e50\n",
    "\n",
    "We added comments to the code to demonstrate our understanding of the script"
   ]
  },
  {
   "cell_type": "code",
   "execution_count": 48,
   "metadata": {},
   "outputs": [],
   "source": [
    "# Get list of urls of individual speech from website\n",
    "\n",
    "def get_urls(url):\n",
    "    '''Returns list of transcript urls'''\n",
    "    \n",
    "    page = requests.get(url).text \n",
    "    soup=BeautifulSoup(page, 'lxml')\n",
    "    url_table = soup.find(\"table\", class_='table').find_all(\"a\")\n",
    "    return [u[\"href\"] for u in url_table]\n",
    "\n",
    "urls = get_urls(\"https://www.presidency.ucsb.edu/documents/presidential-documents-archive-guidebook/inaugural-addresses\")"
   ]
  },
  {
   "cell_type": "code",
   "execution_count": 49,
   "metadata": {},
   "outputs": [],
   "source": [
    "# Scrape speech transcripts from each url\n",
    "\n",
    "transcripts = pd.DataFrame()\n",
    "def get_transcripts(urls, transcripts):\n",
    "    for u in urls:\n",
    "        page = requests.get(u).text\n",
    "        soup = BeautifulSoup(page, 'lxml')\n",
    "        president = soup.find(\"h3\", class_=\"diet-title\").text\n",
    "        year = soup.find(\"span\", class_=\"date-display-single\").text.split(',')[1].strip()\n",
    "        content = soup.find(\"div\", class_=\"field-docs-content\").text\n",
    "        record = {\n",
    "            'president' : president,\n",
    "            'year' : year,\n",
    "            'content' : content\n",
    "        }\n",
    "        transcripts = transcripts.append(record, ignore_index=True)\n",
    "\n",
    "    return transcripts\n",
    "data = get_transcripts(urls,transcripts)\n"
   ]
  },
  {
   "cell_type": "code",
   "execution_count": 50,
   "metadata": {},
   "outputs": [
    {
     "data": {
      "text/html": [
       "<div>\n",
       "<style scoped>\n",
       "    .dataframe tbody tr th:only-of-type {\n",
       "        vertical-align: middle;\n",
       "    }\n",
       "\n",
       "    .dataframe tbody tr th {\n",
       "        vertical-align: top;\n",
       "    }\n",
       "\n",
       "    .dataframe thead th {\n",
       "        text-align: right;\n",
       "    }\n",
       "</style>\n",
       "<table border=\"1\" class=\"dataframe\">\n",
       "  <thead>\n",
       "    <tr style=\"text-align: right;\">\n",
       "      <th></th>\n",
       "      <th>content</th>\n",
       "      <th>president</th>\n",
       "      <th>year</th>\n",
       "    </tr>\n",
       "  </thead>\n",
       "  <tbody>\n",
       "    <tr>\n",
       "      <th>0</th>\n",
       "      <td>\\nFellow-Citizens of the Senate and of the Hou...</td>\n",
       "      <td>George Washington</td>\n",
       "      <td>1789</td>\n",
       "    </tr>\n",
       "    <tr>\n",
       "      <th>1</th>\n",
       "      <td>\\nFellow Citizens:\\nI AM again called upon by ...</td>\n",
       "      <td>George Washington</td>\n",
       "      <td>1793</td>\n",
       "    </tr>\n",
       "    <tr>\n",
       "      <th>2</th>\n",
       "      <td>\\nWHEN it was first perceived, in early times,...</td>\n",
       "      <td>John Adams</td>\n",
       "      <td>1797</td>\n",
       "    </tr>\n",
       "    <tr>\n",
       "      <th>3</th>\n",
       "      <td>\\nFriends and Fellow-Citizens:\\nCALLED upon to...</td>\n",
       "      <td>Thomas Jefferson</td>\n",
       "      <td>1801</td>\n",
       "    </tr>\n",
       "    <tr>\n",
       "      <th>4</th>\n",
       "      <td>\\nPROCEEDING, fellow-citizens, to that qualifi...</td>\n",
       "      <td>Thomas Jefferson</td>\n",
       "      <td>1805</td>\n",
       "    </tr>\n",
       "  </tbody>\n",
       "</table>\n",
       "</div>"
      ],
      "text/plain": [
       "                                             content          president  year\n",
       "0  \\nFellow-Citizens of the Senate and of the Hou...  George Washington  1789\n",
       "1  \\nFellow Citizens:\\nI AM again called upon by ...  George Washington  1793\n",
       "2  \\nWHEN it was first perceived, in early times,...         John Adams  1797\n",
       "3  \\nFriends and Fellow-Citizens:\\nCALLED upon to...   Thomas Jefferson  1801\n",
       "4  \\nPROCEEDING, fellow-citizens, to that qualifi...   Thomas Jefferson  1805"
      ]
     },
     "execution_count": 50,
     "metadata": {},
     "output_type": "execute_result"
    }
   ],
   "source": [
    "data.head()"
   ]
  },
  {
   "cell_type": "markdown",
   "metadata": {},
   "source": [
    "### Part 2 - Text processing\n"
   ]
  },
  {
   "cell_type": "code",
   "execution_count": 114,
   "metadata": {},
   "outputs": [],
   "source": [
    "import re\n",
    "import string\n",
    "import pandas as pd\n",
    "import numpy as np\n",
    "import nltk\n",
    "from nltk.corpus import stopwords"
   ]
  },
  {
   "cell_type": "code",
   "execution_count": 115,
   "metadata": {},
   "outputs": [],
   "source": [
    "# Use regex to remove noise in the content \n",
    "def clean_content(content):\n",
    "    content = content.replace('\\n', '')\n",
    "    content = content.replace(':', '')\n",
    "    content = content.replace('-', ' ')\n",
    "    content = content.lower()\n",
    "    return content\n"
   ]
  },
  {
   "cell_type": "code",
   "execution_count": 116,
   "metadata": {},
   "outputs": [
    {
     "data": {
      "text/html": [
       "<div>\n",
       "<style scoped>\n",
       "    .dataframe tbody tr th:only-of-type {\n",
       "        vertical-align: middle;\n",
       "    }\n",
       "\n",
       "    .dataframe tbody tr th {\n",
       "        vertical-align: top;\n",
       "    }\n",
       "\n",
       "    .dataframe thead th {\n",
       "        text-align: right;\n",
       "    }\n",
       "</style>\n",
       "<table border=\"1\" class=\"dataframe\">\n",
       "  <thead>\n",
       "    <tr style=\"text-align: right;\">\n",
       "      <th></th>\n",
       "      <th>content</th>\n",
       "      <th>president</th>\n",
       "      <th>year</th>\n",
       "    </tr>\n",
       "  </thead>\n",
       "  <tbody>\n",
       "    <tr>\n",
       "      <th>0</th>\n",
       "      <td>fellow citizens of the senate and of the house...</td>\n",
       "      <td>George Washington</td>\n",
       "      <td>1789</td>\n",
       "    </tr>\n",
       "    <tr>\n",
       "      <th>1</th>\n",
       "      <td>fellow citizensi am again called upon by the v...</td>\n",
       "      <td>George Washington</td>\n",
       "      <td>1793</td>\n",
       "    </tr>\n",
       "    <tr>\n",
       "      <th>2</th>\n",
       "      <td>when it was first perceived, in early times, t...</td>\n",
       "      <td>John Adams</td>\n",
       "      <td>1797</td>\n",
       "    </tr>\n",
       "    <tr>\n",
       "      <th>3</th>\n",
       "      <td>friends and fellow citizenscalled upon to unde...</td>\n",
       "      <td>Thomas Jefferson</td>\n",
       "      <td>1801</td>\n",
       "    </tr>\n",
       "    <tr>\n",
       "      <th>4</th>\n",
       "      <td>proceeding, fellow citizens, to that qualifica...</td>\n",
       "      <td>Thomas Jefferson</td>\n",
       "      <td>1805</td>\n",
       "    </tr>\n",
       "  </tbody>\n",
       "</table>\n",
       "</div>"
      ],
      "text/plain": [
       "                                             content          president  year\n",
       "0  fellow citizens of the senate and of the house...  George Washington  1789\n",
       "1  fellow citizensi am again called upon by the v...  George Washington  1793\n",
       "2  when it was first perceived, in early times, t...         John Adams  1797\n",
       "3  friends and fellow citizenscalled upon to unde...   Thomas Jefferson  1801\n",
       "4  proceeding, fellow citizens, to that qualifica...   Thomas Jefferson  1805"
      ]
     },
     "execution_count": 116,
     "metadata": {},
     "output_type": "execute_result"
    }
   ],
   "source": [
    "# Create new dataframe with clean content\n",
    "clean_data = data\n",
    "clean_data['content'] = data.content.head().apply(clean_content)\n",
    "clean_data.head()"
   ]
  },
  {
   "cell_type": "code",
   "execution_count": 118,
   "metadata": {},
   "outputs": [
    {
     "data": {
      "text/plain": [
       "0    [fellow, citizens, senate, house, representati...\n",
       "1    [fellow, citizensi, called, upon, voice, count...\n",
       "2    [first, perceived, early, times, middle, cours...\n",
       "3    [friends, fellow, citizenscalled, upon, undert...\n",
       "4    [proceeding, fellow, citizens, qualification, ...\n",
       "Name: content, dtype: object"
      ]
     },
     "execution_count": 118,
     "metadata": {},
     "output_type": "execute_result"
    }
   ],
   "source": [
    "# Use NLP to further process the content\n",
    "\n",
    "def process_content (content):\n",
    "    # remove punctuation\n",
    "    nopunc = [char for char in content if char not in string.punctuation]\n",
    "    nopunc = ''.join(nopunc)\n",
    "    # remove stopwords\n",
    "    clean_content = [word for word in nopunc.split() if word.lower() not in stopwords.words('english')]\n",
    "    return clean_content\n",
    "\n",
    "clean_data['content'].head().apply(process_content)"
   ]
  },
  {
   "cell_type": "code",
   "execution_count": null,
   "metadata": {},
   "outputs": [],
   "source": []
  }
 ],
 "metadata": {
  "kernelspec": {
   "display_name": "Python 3",
   "language": "python",
   "name": "python3"
  },
  "language_info": {
   "codemirror_mode": {
    "name": "ipython",
    "version": 3
   },
   "file_extension": ".py",
   "mimetype": "text/x-python",
   "name": "python",
   "nbconvert_exporter": "python",
   "pygments_lexer": "ipython3",
   "version": "3.8.5"
  }
 },
 "nbformat": 4,
 "nbformat_minor": 4
}
